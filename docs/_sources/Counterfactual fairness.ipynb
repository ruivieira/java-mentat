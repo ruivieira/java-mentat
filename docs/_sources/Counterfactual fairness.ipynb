{
 "cells": [
  {
   "cell_type": "markdown",
   "id": "9a1ad338",
   "metadata": {},
   "source": [
    "# Counterfactual fairness"
   ]
  },
  {
   "cell_type": "code",
   "execution_count": 11,
   "id": "75bc576d-8429-4050-b8e9-7950cd6a1500",
   "metadata": {},
   "outputs": [],
   "source": [
    "from mentat import *\n",
    "import pandas as pd\n",
    "import seaborn as sns\n",
    "\n",
    "sns.set(rc={\"figure.dpi\":100, 'savefig.dpi':100})\n",
    "sns.set_context('notebook')\n",
    "sns.set_style(\"ticks\")"
   ]
  },
  {
   "cell_type": "code",
   "execution_count": 2,
   "id": "1891da96-aaa1-4c91-81a4-3fa9cf0aeeac",
   "metadata": {},
   "outputs": [
    {
     "data": {
      "text/html": [
       "<div>\n",
       "<style scoped>\n",
       "    .dataframe tbody tr th:only-of-type {\n",
       "        vertical-align: middle;\n",
       "    }\n",
       "\n",
       "    .dataframe tbody tr th {\n",
       "        vertical-align: top;\n",
       "    }\n",
       "\n",
       "    .dataframe thead th {\n",
       "        text-align: right;\n",
       "    }\n",
       "</style>\n",
       "<table border=\"1\" class=\"dataframe\">\n",
       "  <thead>\n",
       "    <tr style=\"text-align: right;\">\n",
       "      <th></th>\n",
       "      <th>LSAT</th>\n",
       "      <th>UGPA</th>\n",
       "      <th>ZFYA</th>\n",
       "      <th>sander_index</th>\n",
       "      <th>first_pf</th>\n",
       "      <th>Amerindian</th>\n",
       "      <th>Asian</th>\n",
       "      <th>Black</th>\n",
       "      <th>Hispanic</th>\n",
       "      <th>Mexican</th>\n",
       "      <th>Other</th>\n",
       "      <th>Puertorican</th>\n",
       "      <th>White</th>\n",
       "      <th>male</th>\n",
       "      <th>female</th>\n",
       "    </tr>\n",
       "  </thead>\n",
       "  <tbody>\n",
       "    <tr>\n",
       "      <th>0</th>\n",
       "      <td>39</td>\n",
       "      <td>3.1</td>\n",
       "      <td>-0.98</td>\n",
       "      <td>0.782738</td>\n",
       "      <td>1.0</td>\n",
       "      <td>0</td>\n",
       "      <td>0</td>\n",
       "      <td>0</td>\n",
       "      <td>0</td>\n",
       "      <td>0</td>\n",
       "      <td>0</td>\n",
       "      <td>0</td>\n",
       "      <td>1</td>\n",
       "      <td>0</td>\n",
       "      <td>1</td>\n",
       "    </tr>\n",
       "    <tr>\n",
       "      <th>1</th>\n",
       "      <td>36</td>\n",
       "      <td>3.0</td>\n",
       "      <td>0.09</td>\n",
       "      <td>0.735714</td>\n",
       "      <td>1.0</td>\n",
       "      <td>0</td>\n",
       "      <td>0</td>\n",
       "      <td>0</td>\n",
       "      <td>0</td>\n",
       "      <td>0</td>\n",
       "      <td>0</td>\n",
       "      <td>0</td>\n",
       "      <td>1</td>\n",
       "      <td>0</td>\n",
       "      <td>1</td>\n",
       "    </tr>\n",
       "    <tr>\n",
       "      <th>2</th>\n",
       "      <td>30</td>\n",
       "      <td>3.1</td>\n",
       "      <td>-0.35</td>\n",
       "      <td>0.670238</td>\n",
       "      <td>1.0</td>\n",
       "      <td>0</td>\n",
       "      <td>0</td>\n",
       "      <td>0</td>\n",
       "      <td>0</td>\n",
       "      <td>0</td>\n",
       "      <td>0</td>\n",
       "      <td>0</td>\n",
       "      <td>1</td>\n",
       "      <td>1</td>\n",
       "      <td>0</td>\n",
       "    </tr>\n",
       "    <tr>\n",
       "      <th>3</th>\n",
       "      <td>39</td>\n",
       "      <td>2.2</td>\n",
       "      <td>0.58</td>\n",
       "      <td>0.697024</td>\n",
       "      <td>1.0</td>\n",
       "      <td>0</td>\n",
       "      <td>0</td>\n",
       "      <td>0</td>\n",
       "      <td>1</td>\n",
       "      <td>0</td>\n",
       "      <td>0</td>\n",
       "      <td>0</td>\n",
       "      <td>0</td>\n",
       "      <td>1</td>\n",
       "      <td>0</td>\n",
       "    </tr>\n",
       "    <tr>\n",
       "      <th>4</th>\n",
       "      <td>37</td>\n",
       "      <td>3.4</td>\n",
       "      <td>-1.26</td>\n",
       "      <td>0.786310</td>\n",
       "      <td>1.0</td>\n",
       "      <td>0</td>\n",
       "      <td>0</td>\n",
       "      <td>0</td>\n",
       "      <td>0</td>\n",
       "      <td>0</td>\n",
       "      <td>0</td>\n",
       "      <td>0</td>\n",
       "      <td>1</td>\n",
       "      <td>0</td>\n",
       "      <td>1</td>\n",
       "    </tr>\n",
       "  </tbody>\n",
       "</table>\n",
       "</div>"
      ],
      "text/plain": [
       "   LSAT  UGPA  ZFYA  sander_index  first_pf  Amerindian  Asian  Black  \\\n",
       "0    39   3.1 -0.98      0.782738       1.0           0      0      0   \n",
       "1    36   3.0  0.09      0.735714       1.0           0      0      0   \n",
       "2    30   3.1 -0.35      0.670238       1.0           0      0      0   \n",
       "3    39   2.2  0.58      0.697024       1.0           0      0      0   \n",
       "4    37   3.4 -1.26      0.786310       1.0           0      0      0   \n",
       "\n",
       "   Hispanic  Mexican  Other  Puertorican  White  male  female  \n",
       "0         0        0      0            0      1     0       1  \n",
       "1         0        0      0            0      1     0       1  \n",
       "2         0        0      0            0      1     1       0  \n",
       "3         1        0      0            0      0     1       0  \n",
       "4         0        0      0            0      1     0       1  "
      ]
     },
     "execution_count": 2,
     "metadata": {},
     "output_type": "execute_result"
    }
   ],
   "source": [
    "df = pd.read_csv(\"./data/law-data.zip\")\n",
    "df = df.drop(columns=[\"region_first\", \"Unnamed: 0\"])\n",
    "df.head()"
   ]
  },
  {
   "cell_type": "code",
   "execution_count": 3,
   "id": "cf8d8ee1-fc13-4b44-bc2f-eee17f440965",
   "metadata": {},
   "outputs": [],
   "source": [
    "A = [\n",
    "    \"Amerindian\",\n",
    "    \"Asian\",\n",
    "    \"Black\",\n",
    "    \"Hispanic\",\n",
    "    \"Mexican\",\n",
    "    \"Other\",\n",
    "    \"Puertorican\",\n",
    "    \"White\",\n",
    "    \"male\",\n",
    "    \"female\",\n",
    "]\n",
    "\n",
    "index_A = range(5, 15)"
   ]
  },
  {
   "cell_type": "code",
   "execution_count": 4,
   "id": "f7047307-5bd8-41a8-85c2-6a759fe7c3ac",
   "metadata": {},
   "outputs": [],
   "source": [
    "import org.apache.commons.math3.linear.RealMatrix\n",
    "from org.apache.commons.math3.linear import MatrixUtils\n",
    "\n",
    "NROWS = df.shape[0]\n",
    "NCOLS = df.shape[1]\n",
    "data = MatrixUtils.createRealMatrix(NROWS, NCOLS)"
   ]
  },
  {
   "cell_type": "code",
   "execution_count": 5,
   "id": "bdc840c0-1079-4d1a-a416-54afc5cbc665",
   "metadata": {},
   "outputs": [],
   "source": [
    "for i in range(NCOLS):\n",
    "    data.setColumn(i, df.iloc[:, i].tolist())"
   ]
  },
  {
   "cell_type": "code",
   "execution_count": 6,
   "id": "a6fe6acc-2946-4bbd-91bf-12ce82d8828a",
   "metadata": {},
   "outputs": [],
   "source": [
    "counterfactualFairness = CounterfactualFairness(data)"
   ]
  },
  {
   "cell_type": "code",
   "execution_count": 7,
   "id": "c0fff603-1657-4aba-82b6-c73f3ec36c4c",
   "metadata": {},
   "outputs": [],
   "source": [
    "epsilons = counterfactualFairness.calculateEpsilon(index_A, 0)"
   ]
  },
  {
   "cell_type": "code",
   "execution_count": 12,
   "id": "93dae288-f482-4398-9ff6-baf14d726392",
   "metadata": {},
   "outputs": [
    {
     "data": {
      "text/plain": [
       "<AxesSubplot:ylabel='Count'>"
      ]
     },
     "execution_count": 12,
     "metadata": {},
     "output_type": "execute_result"
    },
    {
     "data": {
      "image/png": "[encoded data removed]",
      "text/plain": [
       "<Figure size 600x400 with 1 Axes>"
      ]
     },
     "metadata": {},
     "output_type": "display_data"
    }
   ],
   "source": [
    "sns.histplot(epsilons.toArray())"
   ]
  },
  {
   "cell_type": "code",
   "execution_count": null,
   "id": "c4d8c814-4142-4880-ad00-dd005c2bf260",
   "metadata": {},
   "outputs": [],
   "source": []
  }
 ],
 "metadata": {
  "kernelspec": {
   "display_name": "java-mentat",
   "language": "python",
   "name": "java-mentat"
  },
  "language_info": {
   "codemirror_mode": {
    "name": "ipython",
    "version": 3
   },
   "file_extension": ".py",
   "mimetype": "text/x-python",
   "name": "python",
   "nbconvert_exporter": "python",
   "pygments_lexer": "ipython3",
   "version": "3.9.5"
  },
  "toc": {
   "base_numbering": 1,
   "nav_menu": {},
   "number_sections": false,
   "sideBar": false,
   "skip_h1_title": false,
   "title_cell": "Table of Contents",
   "title_sidebar": "Contents",
   "toc_cell": false,
   "toc_position": {},
   "toc_section_display": false,
   "toc_window_display": false
  }
 },
 "nbformat": 4,
 "nbformat_minor": 5
}
