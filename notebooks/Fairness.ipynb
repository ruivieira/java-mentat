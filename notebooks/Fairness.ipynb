{
 "cells": [
  {
   "cell_type": "markdown",
   "id": "44b58123-793b-4d14-9166-e2599987ab12",
   "metadata": {},
   "source": [
    "# Fairness"
   ]
  },
  {
   "cell_type": "code",
   "execution_count": 1,
   "id": "69c84991-78aa-4bb7-98af-8c1efe877e92",
   "metadata": {},
   "outputs": [],
   "source": [
    "from mentat import *\n",
    "import pandas as pd\n",
    "import seaborn as sns\n",
    "\n",
    "sns.set(rc={\"figure.dpi\":100, 'savefig.dpi':100})\n",
    "sns.set_context('notebook')\n",
    "sns.set_style(\"ticks\")"
   ]
  },
  {
   "cell_type": "code",
   "execution_count": 2,
   "id": "64802d0f-6d41-4336-8076-2072cd21193f",
   "metadata": {},
   "outputs": [
    {
     "data": {
      "text/html": [
       "<div>\n",
       "<style scoped>\n",
       "    .dataframe tbody tr th:only-of-type {\n",
       "        vertical-align: middle;\n",
       "    }\n",
       "\n",
       "    .dataframe tbody tr th {\n",
       "        vertical-align: top;\n",
       "    }\n",
       "\n",
       "    .dataframe thead th {\n",
       "        text-align: right;\n",
       "    }\n",
       "</style>\n",
       "<table border=\"1\" class=\"dataframe\">\n",
       "  <thead>\n",
       "    <tr style=\"text-align: right;\">\n",
       "      <th></th>\n",
       "      <th>NewCreditCustomer</th>\n",
       "      <th>Amount</th>\n",
       "      <th>Interest</th>\n",
       "      <th>LoanDuration</th>\n",
       "      <th>Education</th>\n",
       "      <th>NrOfDependants</th>\n",
       "      <th>EmploymentDurationCurrentEmployer</th>\n",
       "      <th>IncomeFromPrincipalEmployer</th>\n",
       "      <th>IncomeFromPension</th>\n",
       "      <th>IncomeFromFamilyAllowance</th>\n",
       "      <th>...</th>\n",
       "      <th>Other</th>\n",
       "      <th>Owner</th>\n",
       "      <th>Owner_with_encumbrance</th>\n",
       "      <th>Tenant</th>\n",
       "      <th>Entrepreneur</th>\n",
       "      <th>Fully</th>\n",
       "      <th>Partially</th>\n",
       "      <th>Retiree</th>\n",
       "      <th>Self_employed</th>\n",
       "      <th>predicted_probabilities</th>\n",
       "    </tr>\n",
       "  </thead>\n",
       "  <tbody>\n",
       "    <tr>\n",
       "      <th>0</th>\n",
       "      <td>False</td>\n",
       "      <td>530.0</td>\n",
       "      <td>10.68</td>\n",
       "      <td>36</td>\n",
       "      <td>4.0</td>\n",
       "      <td>NaN</td>\n",
       "      <td>5.0</td>\n",
       "      <td>0.0</td>\n",
       "      <td>0.0</td>\n",
       "      <td>0.0</td>\n",
       "      <td>...</td>\n",
       "      <td>0</td>\n",
       "      <td>0</td>\n",
       "      <td>0</td>\n",
       "      <td>1</td>\n",
       "      <td>0</td>\n",
       "      <td>0</td>\n",
       "      <td>0</td>\n",
       "      <td>0</td>\n",
       "      <td>0</td>\n",
       "      <td>0.662289</td>\n",
       "    </tr>\n",
       "    <tr>\n",
       "      <th>1</th>\n",
       "      <td>False</td>\n",
       "      <td>530.0</td>\n",
       "      <td>21.57</td>\n",
       "      <td>24</td>\n",
       "      <td>4.0</td>\n",
       "      <td>NaN</td>\n",
       "      <td>1.0</td>\n",
       "      <td>0.0</td>\n",
       "      <td>0.0</td>\n",
       "      <td>0.0</td>\n",
       "      <td>...</td>\n",
       "      <td>0</td>\n",
       "      <td>0</td>\n",
       "      <td>0</td>\n",
       "      <td>0</td>\n",
       "      <td>0</td>\n",
       "      <td>0</td>\n",
       "      <td>0</td>\n",
       "      <td>0</td>\n",
       "      <td>0</td>\n",
       "      <td>0.749224</td>\n",
       "    </tr>\n",
       "    <tr>\n",
       "      <th>2</th>\n",
       "      <td>False</td>\n",
       "      <td>2300.0</td>\n",
       "      <td>15.62</td>\n",
       "      <td>36</td>\n",
       "      <td>4.0</td>\n",
       "      <td>0.0</td>\n",
       "      <td>6.0</td>\n",
       "      <td>1159.0</td>\n",
       "      <td>0.0</td>\n",
       "      <td>0.0</td>\n",
       "      <td>...</td>\n",
       "      <td>0</td>\n",
       "      <td>1</td>\n",
       "      <td>0</td>\n",
       "      <td>0</td>\n",
       "      <td>0</td>\n",
       "      <td>1</td>\n",
       "      <td>0</td>\n",
       "      <td>0</td>\n",
       "      <td>0</td>\n",
       "      <td>0.775058</td>\n",
       "    </tr>\n",
       "    <tr>\n",
       "      <th>3</th>\n",
       "      <td>True</td>\n",
       "      <td>530.0</td>\n",
       "      <td>27.36</td>\n",
       "      <td>36</td>\n",
       "      <td>4.0</td>\n",
       "      <td>NaN</td>\n",
       "      <td>6.0</td>\n",
       "      <td>0.0</td>\n",
       "      <td>0.0</td>\n",
       "      <td>0.0</td>\n",
       "      <td>...</td>\n",
       "      <td>0</td>\n",
       "      <td>0</td>\n",
       "      <td>1</td>\n",
       "      <td>0</td>\n",
       "      <td>0</td>\n",
       "      <td>0</td>\n",
       "      <td>0</td>\n",
       "      <td>0</td>\n",
       "      <td>0</td>\n",
       "      <td>0.423509</td>\n",
       "    </tr>\n",
       "    <tr>\n",
       "      <th>4</th>\n",
       "      <td>True</td>\n",
       "      <td>4250.0</td>\n",
       "      <td>18.94</td>\n",
       "      <td>60</td>\n",
       "      <td>4.0</td>\n",
       "      <td>NaN</td>\n",
       "      <td>1.0</td>\n",
       "      <td>0.0</td>\n",
       "      <td>0.0</td>\n",
       "      <td>0.0</td>\n",
       "      <td>...</td>\n",
       "      <td>0</td>\n",
       "      <td>0</td>\n",
       "      <td>0</td>\n",
       "      <td>0</td>\n",
       "      <td>0</td>\n",
       "      <td>0</td>\n",
       "      <td>0</td>\n",
       "      <td>0</td>\n",
       "      <td>0</td>\n",
       "      <td>0.535847</td>\n",
       "    </tr>\n",
       "  </tbody>\n",
       "</table>\n",
       "<p>5 rows × 41 columns</p>\n",
       "</div>"
      ],
      "text/plain": [
       "   NewCreditCustomer  Amount  Interest  LoanDuration  Education  \\\n",
       "0              False   530.0     10.68            36        4.0   \n",
       "1              False   530.0     21.57            24        4.0   \n",
       "2              False  2300.0     15.62            36        4.0   \n",
       "3               True   530.0     27.36            36        4.0   \n",
       "4               True  4250.0     18.94            60        4.0   \n",
       "\n",
       "   NrOfDependants  EmploymentDurationCurrentEmployer  \\\n",
       "0             NaN                                5.0   \n",
       "1             NaN                                1.0   \n",
       "2             0.0                                6.0   \n",
       "3             NaN                                6.0   \n",
       "4             NaN                                1.0   \n",
       "\n",
       "   IncomeFromPrincipalEmployer  IncomeFromPension  IncomeFromFamilyAllowance  \\\n",
       "0                          0.0                0.0                        0.0   \n",
       "1                          0.0                0.0                        0.0   \n",
       "2                       1159.0                0.0                        0.0   \n",
       "3                          0.0                0.0                        0.0   \n",
       "4                          0.0                0.0                        0.0   \n",
       "\n",
       "   ...  Other  Owner  Owner_with_encumbrance  Tenant  Entrepreneur  Fully  \\\n",
       "0  ...      0      0                       0       1             0      0   \n",
       "1  ...      0      0                       0       0             0      0   \n",
       "2  ...      0      1                       0       0             0      1   \n",
       "3  ...      0      0                       1       0             0      0   \n",
       "4  ...      0      0                       0       0             0      0   \n",
       "\n",
       "   Partially  Retiree  Self_employed  predicted_probabilities  \n",
       "0          0        0              0                 0.662289  \n",
       "1          0        0              0                 0.749224  \n",
       "2          0        0              0                 0.775058  \n",
       "3          0        0              0                 0.423509  \n",
       "4          0        0              0                 0.535847  \n",
       "\n",
       "[5 rows x 41 columns]"
      ]
     },
     "execution_count": 2,
     "metadata": {},
     "output_type": "execute_result"
    }
   ],
   "source": [
    "data = pd.read_csv(\"../data/credit-bias-predictions.zip\")\n",
    "data.head()"
   ]
  },
  {
   "cell_type": "code",
   "execution_count": 3,
   "id": "e5805640-af76-41b6-b60a-4151322fe579",
   "metadata": {},
   "outputs": [],
   "source": [
    "data['PaidLoan'] = data.PaidLoan.astype(int)"
   ]
  },
  {
   "cell_type": "code",
   "execution_count": 4,
   "id": "2a3d5dfb-f576-4fed-af50-f3d01345e8a7",
   "metadata": {},
   "outputs": [],
   "source": [
    "priviledged = data[data.Education == 5.0][['PaidLoan', 'predicted_probabilities']]\n",
    "ed_4 = data[data.Education == 4.0][['PaidLoan', 'predicted_probabilities']]\n",
    "ed_3 = data[data.Education == 3.0][['PaidLoan', 'predicted_probabilities']]\n",
    "ed_1 = data[data.Education == 1.0][['PaidLoan', 'predicted_probabilities']]"
   ]
  },
  {
   "cell_type": "code",
   "execution_count": 5,
   "id": "bca32bad-8e1a-4ee7-82df-3855a6163a7c",
   "metadata": {},
   "outputs": [],
   "source": [
    "from metrics import Fairness\n",
    "\n",
    "fairness = Fairness.create(\"Education Level 5\", list(priviledged.PaidLoan), list(priviledged.predicted_probabilities)) "
   ]
  },
  {
   "cell_type": "code",
   "execution_count": 6,
   "id": "6fd656c2-d4e9-4dc4-9083-6c9c84745ae1",
   "metadata": {},
   "outputs": [],
   "source": [
    "fairness.addProtectedGroup(\"Education Level 4\", list(ed_4.PaidLoan), list(ed_4.predicted_probabilities)) \n",
    "fairness.addProtectedGroup(\"Education Level 3\", list(ed_3.PaidLoan), list(ed_3.predicted_probabilities)) \n",
    "fairness.addProtectedGroup(\"Education Level 1\", list(ed_1.PaidLoan), list(ed_1.predicted_probabilities)) "
   ]
  },
  {
   "cell_type": "code",
   "execution_count": 7,
   "id": "e7d59f3d-4890-4946-8857-ff01d70141f3",
   "metadata": {},
   "outputs": [],
   "source": [
    "fairness.check()"
   ]
  },
  {
   "cell_type": "code",
   "execution_count": 8,
   "id": "4df63d53-b625-43f0-a7dd-2a61e0cd9035",
   "metadata": {},
   "outputs": [],
   "source": [
    "from matplotlib import pyplot as plt\n",
    "\n",
    "def plotMetric(x, y, title):\n",
    "    graph = sns.barplot(x=x, y=y, color='red')\n",
    "    graph.set(title=title)\n",
    "    graph.axvline(fairness.getEpsilon(), linestyle=\"--\", c='k')\n",
    "    graph.axvline(1.0/fairness.getEpsilon(), linestyle=\"--\", c='k') "
   ]
  },
  {
   "cell_type": "code",
   "execution_count": 12,
   "id": "be954ccb-f5de-472a-9f35-97ebef644309",
   "metadata": {},
   "outputs": [
    {
     "data": {
      "image/png": "[encoded data removed]",
      "text/plain": [
       "<Figure size 600x400 with 1 Axes>"
      ]
     },
     "metadata": {},
     "output_type": "display_data"
    }
   ],
   "source": [
    "y = [str(f) for f in list(fairness.getTPR().keys())]\n",
    "x = [float(f) for f in list(fairness.getTPR().values())]\n",
    "\n",
    "plotMetric(x, y, \"True Positive Rate (TPR)\")"
   ]
  },
  {
   "cell_type": "code",
   "execution_count": 10,
   "id": "6626fdc1-05e0-411a-8103-1921df5fa4e7",
   "metadata": {},
   "outputs": [
    {
     "data": {
      "image/png": "[encoded data removed]",
      "text/plain": [
       "<Figure size 600x400 with 1 Axes>"
      ]
     },
     "metadata": {},
     "output_type": "display_data"
    }
   ],
   "source": [
    "y = [str(f) for f in list(fairness.getAccuracy().keys())]\n",
    "x = [float(f) for f in list(fairness.getAccuracy().values())]\n",
    "\n",
    "plotMetric(x, y, \"Accuracy\")"
   ]
  },
  {
   "cell_type": "code",
   "execution_count": 13,
   "id": "ba2e6376-2c6d-443f-9592-87226a360daf",
   "metadata": {},
   "outputs": [
    {
     "data": {
      "image/png": "[encoded data removed]",
      "text/plain": [
       "<Figure size 600x400 with 1 Axes>"
      ]
     },
     "metadata": {},
     "output_type": "display_data"
    }
   ],
   "source": [
    "y = [str(f) for f in list(fairness.getPPV().keys())]\n",
    "x = [float(f) for f in list(fairness.getPPV().values())]\n",
    "\n",
    "plotMetric(x, y, \"Positive Predictive Value (PPV)\")"
   ]
  },
  {
   "cell_type": "code",
   "execution_count": null,
   "id": "2423934b-27af-4094-8fde-8fb0e946a525",
   "metadata": {},
   "outputs": [],
   "source": []
  }
 ],
 "metadata": {
  "kernelspec": {
   "display_name": "java-mentat",
   "language": "python",
   "name": "java-mentat"
  },
  "language_info": {
   "codemirror_mode": {
    "name": "ipython",
    "version": 3
   },
   "file_extension": ".py",
   "mimetype": "text/x-python",
   "name": "python",
   "nbconvert_exporter": "python",
   "pygments_lexer": "ipython3",
   "version": "3.9.5"
  }
 },
 "nbformat": 4,
 "nbformat_minor": 5
}
