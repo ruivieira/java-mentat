{
 "cells": [
  {
   "cell_type": "code",
   "execution_count": 2,
   "id": "c968062b",
   "metadata": {},
   "outputs": [],
   "source": [
    "from mentat import *"
   ]
  },
  {
   "cell_type": "code",
   "execution_count": 6,
   "id": "54a9cf15",
   "metadata": {},
   "outputs": [],
   "source": [
    "erdos = ErdosRenyi(10, 0.8)"
   ]
  },
  {
   "cell_type": "code",
   "execution_count": 7,
   "id": "7d76cf56-58a2-4874-9050-bd747b4deda6",
   "metadata": {},
   "outputs": [
    {
     "data": {
      "text/plain": [
       "'Array2DRowRealMatrix{{1.0,0.0,0.0,1.0,1.0,1.0,1.0,1.0,1.0,1.0},{0.0,1.0,0.0,0.0,1.0,1.0,0.0,0.0,0.0,1.0},{0.0,0.0,1.0,0.0,1.0,0.0,1.0,1.0,0.0,1.0},{0.0,0.0,0.0,1.0,0.0,0.0,1.0,1.0,0.0,1.0},{0.0,0.0,0.0,0.0,1.0,0.0,1.0,0.0,1.0,1.0},{0.0,0.0,0.0,0.0,0.0,1.0,0.0,1.0,1.0,1.0},{0.0,0.0,0.0,0.0,0.0,0.0,1.0,0.0,1.0,1.0},{0.0,0.0,0.0,0.0,0.0,0.0,0.0,1.0,0.0,1.0},{0.0,0.0,0.0,0.0,0.0,0.0,0.0,0.0,1.0,0.0},{0.0,0.0,0.0,0.0,0.0,0.0,0.0,0.0,0.0,1.0}}'"
      ]
     },
     "execution_count": 7,
     "metadata": {},
     "output_type": "execute_result"
    }
   ],
   "source": [
    "erdos.getMap().toString()"
   ]
  },
  {
   "cell_type": "code",
   "execution_count": null,
   "id": "460239dc-a075-4443-bdb5-524502de9bc9",
   "metadata": {},
   "outputs": [],
   "source": []
  }
 ],
 "metadata": {
  "kernelspec": {
   "display_name": "java-mentat",
   "language": "python",
   "name": "java-mentat"
  },
  "language_info": {
   "codemirror_mode": {
    "name": "ipython",
    "version": 3
   },
   "file_extension": ".py",
   "mimetype": "text/x-python",
   "name": "python",
   "nbconvert_exporter": "python",
   "pygments_lexer": "ipython3",
   "version": "3.9.5"
  },
  "toc": {
   "base_numbering": 1,
   "nav_menu": {},
   "number_sections": false,
   "sideBar": false,
   "skip_h1_title": false,
   "title_cell": "Table of Contents",
   "title_sidebar": "Contents",
   "toc_cell": false,
   "toc_position": {},
   "toc_section_display": false,
   "toc_window_display": false
  }
 },
 "nbformat": 4,
 "nbformat_minor": 5
}
